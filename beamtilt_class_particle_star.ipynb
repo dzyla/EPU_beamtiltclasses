{
 "cells": [
  {
   "cell_type": "code",
   "execution_count": 1,
   "metadata": {},
   "outputs": [],
   "source": [
    "import pandas as pd\n",
    "import numpy as np\n",
    "import re\n",
    "from gemmi import cif\n",
    "\n",
    "def parse_star(file_path):\n",
    "    \"\"\"Parse a star file and return its contents as a dictionary of dataframes.\"\"\"\n",
    "    doc = cif.read_file(file_path)\n",
    "    star_data = {}\n",
    "\n",
    "    for data in doc:\n",
    "        dataframe = pd.DataFrame()\n",
    "        try:\n",
    "            for item in data:\n",
    "                for metadata in item.loop.tags:\n",
    "                    value = data.find_loop(metadata)\n",
    "                    dataframe[metadata] = np.array(value)\n",
    "            star_data[data.name] = dataframe\n",
    "        except AttributeError:\n",
    "            continue\n",
    "\n",
    "    return star_data\n",
    "\n",
    "def extract_matches_from_filename(filename):\n",
    "    \"\"\"Extract three numbers from the filename if the keyword 'FoilHole' is present.\"\"\"\n",
    "    if 'FoilHole' in filename:\n",
    "        matches = re.findall(r'(\\d+)', filename)\n",
    "        if len(matches) >= 3:\n",
    "            return matches[0:3]\n",
    "    return [1, 1, 1]\n",
    "\n",
    "\n",
    "def find_beamtilt_classes(particles_star):\n",
    "    \"\"\"Find beamtilt classes from the given star dataframe.\"\"\"\n",
    "    mic_names = particles_star.get('_rlnMicrographName', [])\n",
    "    extracted_values = [extract_matches_from_filename(name) for name in mic_names]\n",
    "    \n",
    "    pos1, pos2, pos3 = zip(*extracted_values)\n",
    "    \n",
    "    unique_p3 = np.unique(pos3)\n",
    "    print(f\"Found {len(unique_p3)} beamtilt classes at positions 3 in the filenames\")\n",
    "    return pos3\n",
    "\n",
    "\n",
    "def generate_beamtilt_optics(optics, beamtilt_classes):\n",
    "    # Get the unique beamtilt classes\n",
    "    unique_beamtilt_classes = np.unique(beamtilt_classes)\n",
    "    print(unique_beamtilt_classes)\n",
    "\n",
    "    # Create a dictionary mapping unique beamtilt classes to optics group numbers\n",
    "    optics_name_group_dict = {unique_beamtilt_class: n+1 for n, unique_beamtilt_class in enumerate(unique_beamtilt_classes)}\n",
    "\n",
    "    optics_holder = pd.DataFrame()\n",
    "\n",
    "    # Iterate over unique beamtilt classes and update optics data\n",
    "    for n, unique_beamtilt_class in enumerate(unique_beamtilt_classes):\n",
    "        # If there's only one row in optics, create a copy of it\n",
    "        if optics.shape[0] == 1:\n",
    "            new_optics_group = optics.copy()\n",
    "        else:\n",
    "            new_optics_group = optics.iloc[n].copy()\n",
    "\n",
    "        # Update the optics group name and number\n",
    "        new_optics_group['_rlnOpticsGroupName'] = unique_beamtilt_class\n",
    "        new_optics_group['_rlnOpticsGroup'] = optics_name_group_dict[unique_beamtilt_class]\n",
    "        \n",
    "        # Append the new optics group to the holder dataframe\n",
    "        optics_holder = pd.concat([optics_holder, new_optics_group], axis=0)\n",
    "\n",
    "    # Reset the index after concatenation\n",
    "    optics_holder = optics_holder.reset_index(drop=True)\n",
    "\n",
    "    return optics_holder, optics_name_group_dict\n",
    "\n",
    "\n",
    "def update_beamtilt_classes(particles_star, beamtilt_dict):\n",
    "    \"\"\"Update the particles star dataframe with the beamtilt classes.\"\"\"\n",
    "    mic_names = particles_star['_rlnMicrographName']\n",
    "    \n",
    "    beamtilt_classes = [extract_matches_from_filename(name)[2] for name in mic_names]\n",
    "    optics_group = [beamtilt_dict[cls] for cls in beamtilt_classes]\n",
    "    \n",
    "    particles_star['_rlnOpticsGroup'] = optics_group\n",
    "    return particles_star\n",
    "\n",
    "\n",
    "def save_star(dicts_of_df, filename='out.star'):\n",
    "    out_doc = cif.Document()\n",
    "\n",
    "    for element in dicts_of_df.keys():\n",
    "        out_particles = out_doc.add_new_block(element, pos=-1)\n",
    "        \n",
    "        # Ensure that the object is a DataFrame\n",
    "        if isinstance(dicts_of_df[element], pd.DataFrame):\n",
    "            column_names = dicts_of_df[element].columns\n",
    "        else:\n",
    "            raise TypeError(f\"The object for key '{element}' is not a DataFrame.\")\n",
    "        \n",
    "        column_names_to_star = [f\"{name} #{n + 1}\" for n, name in enumerate(column_names)]\n",
    "        loop = out_particles.init_loop('', column_names_to_star)\n",
    "        data_rows = dicts_of_df[element].to_numpy().astype(str).tolist()\n",
    "\n",
    "        for row in data_rows:\n",
    "            loop.add_row(row)\n",
    "\n",
    "    out_doc.write_file(filename)\n",
    "    print(f'Saved star file: {filename}')\n"
   ]
  },
  {
   "cell_type": "code",
   "execution_count": 2,
   "metadata": {},
   "outputs": [],
   "source": [
    "data_star = parse_star('/mnt/gpu_scratch/Extract/job027/particles.star')"
   ]
  },
  {
   "cell_type": "code",
   "execution_count": 3,
   "metadata": {},
   "outputs": [
    {
     "name": "stdout",
     "output_type": "stream",
     "text": [
      "Found 15 beamtilt classes at positions 3 in the filenames\n",
      "['10216683' '10216686' '10216689' '10216692' '10216695' '10216698'\n",
      " '10216701' '10216704' '10216707' '10216710' '10216713' '10216716'\n",
      " '10216719' '10216722' '10216725']\n"
     ]
    }
   ],
   "source": [
    "particles = data_star['particles']\n",
    "optics = data_star['optics']\n",
    "\n",
    "per_particle_beamtilt_class = find_beamtilt_classes(particles)\n",
    "new_optics, optics_dict = generate_beamtilt_optics(optics, per_particle_beamtilt_class)"
   ]
  },
  {
   "cell_type": "code",
   "execution_count": 4,
   "metadata": {},
   "outputs": [],
   "source": [
    "new_particles = update_beamtilt_classes(particles, optics_dict)"
   ]
  },
  {
   "cell_type": "code",
   "execution_count": 5,
   "metadata": {},
   "outputs": [
    {
     "name": "stdout",
     "output_type": "stream",
     "text": [
      "Saved star file: /mnt/gpu_scratch/Extract/job027/particles_optics_groups.star\n"
     ]
    }
   ],
   "source": [
    "save_star({'optics': new_optics, 'particles': new_particles}, '/mnt/gpu_scratch/Extract/job027/particles_optics_groups.star')"
   ]
  }
 ],
 "metadata": {
  "kernelspec": {
   "display_name": "pycharm",
   "language": "python",
   "name": "python3"
  },
  "language_info": {
   "codemirror_mode": {
    "name": "ipython",
    "version": 3
   },
   "file_extension": ".py",
   "mimetype": "text/x-python",
   "name": "python",
   "nbconvert_exporter": "python",
   "pygments_lexer": "ipython3",
   "version": "3.11.4"
  },
  "orig_nbformat": 4
 },
 "nbformat": 4,
 "nbformat_minor": 2
}
